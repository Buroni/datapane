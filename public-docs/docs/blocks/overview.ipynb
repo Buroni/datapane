{
 "cells": [
  {
   "attachments": {},
   "cell_type": "markdown",
   "id": "1fe2a952-3b03-4cc7-8071-693984e3b11e",
   "metadata": {
    "tags": []
   },
   "source": [
    "Datapane is built on the really simple concept of _Blocks_, which are Python-based objects that represent an individual unit that can be processed and viewed. For instance, there are blocks to represent the concept of a _Plot_, or a _BigNumber_. What makes _Blocks_ powerful is that they can be composed and combined together really easily to build powerful and impactful that represent a data-driven View.\n",
    "\n",
    "!!! tip\n",
    "    You can think of blocks as similar to HTML Elements / Tags, but specialized on creating Data-driven UIs and applications\n",
    "\n",
    "## Blocks\n",
    "\n",
    "There are three main types of Blocks provided by default in Datapane, these are,\n",
    "\n",
    "1. [Display Blocks](./display-blocks.ipynb) - these are blocks that display data, such as a Plot (dp.Plot) or a DataTable (dp.DataTable). They take Python objects, such as Panda DataFrames, and automatically convert them into a form that can be viewed\n",
    "1. [Layout Blocks](./layout-blocks.ipynb) - these are blocks that can be used to layout other Blocks, such as `dp.Group` that can group blocks together in columns, or `dp.Select` that allows a user to Select between multiple blocks. They take other Blocks as their input and layout them out as needed to help ou build complex and visually informative layouts.\n",
    "1. [Compute Blocks](/apps/blocks.md) - Compute Blocks allow you take input within your UI, and call Python-functions that return blocks dynamic in response - this is used to power [Datapane Apps](../apps/overview.md), describe later in these docs.\n",
    "\n",
    "Tne most exciting thing about Blocks is that they are fully composable, recursive, and can be combined at will - you can create functions that return Blocks, pass them into other Blocks, (i.e. pass a `Group` of plots laid out as columns into a `Select`) and more. This makes it easy to build up a library of reusable functions and components that process data and return Blocks to insert into your Views. We have a reusable, open-source set of such [Components](../misc/examples.md) that you can start working with immediately and easily build your own.\n",
    "\n",
    "## Example\n",
    "\n",
    "Below is a simple example that demonstrates building up a collection of blocks, including a `dp.Text` block that supports Markdown, a Plot block, and a DataTable block. The Plot and DataTable are laid out within a Group Block to provide some structure."
   ]
  },
  {
   "cell_type": "code",
   "execution_count": null,
   "id": "a40acc83",
   "metadata": {},
   "outputs": [],
   "source": [
    "import altair as alt\n",
    "import datapane as dp\n",
    "from vega_datasets import data\n",
    "\n",
    "df = data.iris()\n",
    "\n",
    "fig = (\n",
    "    alt.Chart(df)\n",
    "    .mark_point()\n",
    "    .encode(x=\"petalLength\", y=\"petalWidth\", color=\"species\")\n",
    ")\n",
    "\n",
    "dp.View(dp.Text(\"# My report\"), \n",
    "        dp.Select(dp.Plot(fig), dp.DataTable(df)))"
   ]
  },
  {
   "attachments": {},
   "cell_type": "markdown",
   "id": "d2d3cdf0",
   "metadata": {},
   "source": [
    "\n",
    "## Views\n",
    "\n",
    "The blocks in the example above have been combined together to provide a programmatically generated, but static, view of the data - we term this a Data View. \n",
    "\n",
    "!!! note\n",
    "    You may never actually work with `dp.View` directly, Datapane supports lots of shortcuts and helpers to improve ease-of-use and make common patterns easy - for instance you can just return a single `Block` or a list of `Blocks` and it will all work as expected.\n",
    "\n",
    "As you may have noticed in the [Quickstart](../misc/quickstart.ipynb), Blocks and Views can be viewed and previewed automatically within Jupyter, making interactive development trivial.\n",
    "\n",
    "!!! tip\n",
    "    You can think of a Data View like a fragment of HTML specialised on Data focussed output\n",
    "\n",
    "Datapane provides may ways to work with these Data Views, including\n",
    "- using them to enhance Jupyter notebooks (as above)\n",
    "- composing and combining them together,\n",
    "- converting them into [Datapane Reports](../reports/overview.ipynb) that can be saved or uploaded to Datapane Cloud, shared and more\n",
    "- attaching backend processing to them so that they become dynamic as per [Datapane Apps](../apps/overview.md),\n",
    "- (coming soon!) generating them on a schedule via your own code or expertly crafted components via Datapane Functions\n"
   ]
  }
 ],
 "metadata": {
  "language_info": {
   "name": "python"
  }
 },
 "nbformat": 4,
 "nbformat_minor": 5
}
