{
 "cells": [
  {
   "cell_type": "markdown",
   "id": "4837dd08-b959-4baa-9c44-d9f5e4437c81",
   "metadata": {
    "tags": []
   },
   "source": [
    "# Apps API Reference"
   ]
  },
  {
   "cell_type": "markdown",
   "id": "38e142ce-cd49-4501-93f5-b96ba579a051",
   "metadata": {},
   "source": [
    "::: datapane.app.server.serve_app\n"
   ]
  }
 ],
 "metadata": {
  "language_info": {
   "name": "python"
  }
 },
 "nbformat": 4,
 "nbformat_minor": 5
}
