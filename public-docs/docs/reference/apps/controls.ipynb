{
 "cells": [
  {
   "cell_type": "code",
   "execution_count": null,
   "id": "26cf85f0-93e0-41f3-be6d-e3bdb16d13c0",
   "metadata": {
    "tags": [
     "remove_cell"
    ]
   },
   "outputs": [],
   "source": [
    "import datapane as dp\n",
    "import datetime\n",
    "\n",
    "def my_function():\n",
    "    pass"
   ]
  },
  {
   "cell_type": "markdown",
   "id": "b124887a",
   "metadata": {},
   "source": [
    "::: datapane.blocks.parameters.Switch\n",
    "    options:\n",
    "          members:\n",
    "              - __init__"
   ]
  },
  {
   "cell_type": "code",
   "execution_count": null,
   "id": "91eaa878",
   "metadata": {},
   "outputs": [],
   "source": [
    "control = dp.Switch(\"enabled\", label=\"Select enable or disabled\")"
   ]
  },
  {
   "cell_type": "code",
   "execution_count": null,
   "id": "eddf7cf7",
   "metadata": {
    "tags": [
     "remove_input"
    ]
   },
   "outputs": [],
   "source": [
    "dp.Compute(my_function, target=dp.TargetMode.SELF, controls=[control])"
   ]
  },
  {
   "cell_type": "markdown",
   "id": "28b656b9-c90f-4356-929c-cb2fa0359ae1",
   "metadata": {},
   "source": [
    "::: datapane.blocks.parameters.TextBox\n",
    "    options:\n",
    "          members:\n",
    "              - __init__"
   ]
  },
  {
   "cell_type": "code",
   "execution_count": null,
   "id": "1feeb320-5d4a-4029-88c3-393c640e5788",
   "metadata": {
    "tags": []
   },
   "outputs": [],
   "source": [
    "control = dp.TextBox(\"input\", label=\"Input your value\")"
   ]
  },
  {
   "cell_type": "code",
   "execution_count": null,
   "id": "2f8c1ee8-8fd5-4495-8731-e4ba3fcc1683",
   "metadata": {
    "tags": [
     "remove_input"
    ]
   },
   "outputs": [],
   "source": [
    "dp.Compute(my_function, target=dp.TargetMode.SELF, controls=[control])"
   ]
  },
  {
   "cell_type": "markdown",
   "id": "7028c516-97c7-4137-a51c-cb1a63ca6f80",
   "metadata": {},
   "source": [
    "::: datapane.blocks.parameters.NumberBox\n",
    "    options:\n",
    "          members:\n",
    "              - __init__"
   ]
  },
  {
   "cell_type": "code",
   "execution_count": null,
   "id": "a02f5ced-f75d-4029-9359-2be4d704bdd3",
   "metadata": {},
   "outputs": [],
   "source": [
    "control = dp.NumberBox(\"input\", label=\"Input your value\", initial=0)"
   ]
  },
  {
   "cell_type": "code",
   "execution_count": null,
   "id": "e2519a4c-6515-4000-ae8c-7bc3962637be",
   "metadata": {
    "tags": [
     "remove_input"
    ]
   },
   "outputs": [],
   "source": [
    "dp.Compute(my_function, target=dp.TargetMode.SELF, controls=[control])"
   ]
  },
  {
   "cell_type": "markdown",
   "id": "9c57a011-931a-4d1a-aa0a-18fd4ae5af54",
   "metadata": {},
   "source": [
    "::: datapane.blocks.parameters.Range\n",
    "    options:\n",
    "          members:\n",
    "              - __init__"
   ]
  },
  {
   "cell_type": "code",
   "execution_count": null,
   "id": "4560b25c-9960-4da4-b0fd-2070638259df",
   "metadata": {
    "tags": []
   },
   "outputs": [],
   "source": [
    "control = dp.Range(\"age\", initial=20, min=1, max=120, step=1)"
   ]
  },
  {
   "cell_type": "code",
   "execution_count": null,
   "id": "01f90253-bf63-4cfe-9e93-f206e8bbfa2c",
   "metadata": {
    "tags": [
     "remove_input"
    ]
   },
   "outputs": [],
   "source": [
    "dp.Compute(my_function, target=dp.TargetMode.SELF, controls=[control])"
   ]
  },
  {
   "cell_type": "markdown",
   "id": "00f17727-a0b9-4ade-9962-d65bd1daa6bb",
   "metadata": {},
   "source": [
    "::: datapane.blocks.parameters.Choice  \n",
    "    options:\n",
    "          members:\n",
    "              - __init__"
   ]
  },
  {
   "cell_type": "code",
   "execution_count": null,
   "id": "a4068735-fcc3-444b-b342-297edc5806fa",
   "metadata": {
    "tags": []
   },
   "outputs": [],
   "source": [
    "control = dp.Choice(\"choice\", initial=\"English\", options=[\"English\", \"German\", \"French\"])"
   ]
  },
  {
   "cell_type": "code",
   "execution_count": null,
   "id": "ef60c01d-32a8-410e-9f4c-5bb397925617",
   "metadata": {
    "tags": [
     "remove_input"
    ]
   },
   "outputs": [],
   "source": [
    "dp.Compute(my_function, target=dp.TargetMode.SELF, controls=[control])"
   ]
  },
  {
   "cell_type": "markdown",
   "id": "cad2911a-a52e-453b-bcd2-01311dcdc233",
   "metadata": {},
   "source": [
    "::: datapane.blocks.parameters.MultiChoice\n",
    "    options:\n",
    "          members:\n",
    "              - __init__"
   ]
  },
  {
   "cell_type": "code",
   "execution_count": null,
   "id": "65d6231c-44e3-4b6d-b880-e68861a6e572",
   "metadata": {
    "tags": []
   },
   "outputs": [],
   "source": [
    "control = dp.MultiChoice(\n",
    "    \"choice\",\n",
    "    initial=[\"Lettuce\", \"Cucumber\"],\n",
    "    options=[\"Lettuce\", \"Onion\", \"Cucumber\", \"Pickles\"],\n",
    ")"
   ]
  },
  {
   "cell_type": "code",
   "execution_count": null,
   "id": "c98b00bc-3cb3-4010-a76c-9fa3d23d9ae3",
   "metadata": {
    "tags": [
     "remove_input"
    ]
   },
   "outputs": [],
   "source": [
    "dp.Compute(my_function, target=dp.TargetMode.SELF, controls=[control])"
   ]
  },
  {
   "cell_type": "markdown",
   "id": "ca1d44ff-9234-4f5c-b59d-2a3235295224",
   "metadata": {
    "tags": []
   },
   "source": [
    "::: datapane.blocks.parameters.Tags\n",
    "    options:\n",
    "          members:\n",
    "              - __init__"
   ]
  },
  {
   "cell_type": "code",
   "execution_count": null,
   "id": "1ea04c61-4f24-4fe4-8d3e-f63d6c204eec",
   "metadata": {
    "tags": []
   },
   "outputs": [],
   "source": [
    "control = dp.Tags(\n",
    "    \"choice\",\n",
    "    label=\"Filter by multiple tags\",\n",
    "    initial=[\"#data\", \"#python\", \"#programming\"],\n",
    ")"
   ]
  },
  {
   "cell_type": "code",
   "execution_count": null,
   "id": "9c35e3ed-6459-48c5-8025-9e9ff9a6ff8d",
   "metadata": {
    "tags": [
     "remove_input"
    ]
   },
   "outputs": [],
   "source": [
    "dp.Compute(my_function, target=dp.TargetMode.SELF, controls=[control])"
   ]
  },
  {
   "cell_type": "markdown",
   "id": "105c99b1-6cb2-4282-a67e-b0d8852663c2",
   "metadata": {
    "tags": []
   },
   "source": [
    "::: datapane.blocks.parameters.Date    \n",
    "    options:\n",
    "          members:\n",
    "              - __init__"
   ]
  },
  {
   "cell_type": "code",
   "execution_count": null,
   "id": "e194883c-6f8a-4160-b656-a0aa5553b624",
   "metadata": {
    "tags": []
   },
   "outputs": [],
   "source": [
    "control = dp.Date(\"choice\", label=\"Select a date\", initial=datetime.date.today())"
   ]
  },
  {
   "cell_type": "code",
   "execution_count": null,
   "id": "27719a10-031b-43d9-bd6a-a8b769bf725d",
   "metadata": {
    "tags": [
     "remove_input"
    ]
   },
   "outputs": [],
   "source": [
    "dp.Compute(my_function, target=dp.TargetMode.SELF, controls=[control])"
   ]
  },
  {
   "cell_type": "markdown",
   "id": "f0a3775a-e50b-4fad-a588-8ecb7f4164bd",
   "metadata": {
    "tags": []
   },
   "source": [
    "::: datapane.blocks.parameters.Time  \n",
    "    options:\n",
    "          members:\n",
    "              - __init__"
   ]
  },
  {
   "cell_type": "code",
   "execution_count": null,
   "id": "b6075755-b62b-4bea-b83f-e024d8d0a8eb",
   "metadata": {
    "tags": []
   },
   "outputs": [],
   "source": [
    "control = dp.Time(\"choice\", label=\"Enter a time\")"
   ]
  },
  {
   "cell_type": "code",
   "execution_count": null,
   "id": "c8fa6132-0759-45fb-9859-fcabdd1d7a62",
   "metadata": {
    "tags": [
     "remove_input"
    ]
   },
   "outputs": [],
   "source": [
    "dp.Compute(my_function, target=dp.TargetMode.SELF, controls=[control])"
   ]
  },
  {
   "cell_type": "markdown",
   "id": "d5a7a0ff-5536-42be-9c74-792ec6d1eec4",
   "metadata": {
    "tags": []
   },
   "source": [
    "::: datapane.blocks.parameters.DateTime  \n",
    "    options:\n",
    "          members:\n",
    "              - __init__"
   ]
  },
  {
   "cell_type": "code",
   "execution_count": null,
   "id": "13914a0b-634e-4be8-833d-15a2c98ab2e2",
   "metadata": {
    "tags": []
   },
   "outputs": [],
   "source": [
    "control = dp.DateTime(\n",
    "    \"choice\", label=\"Select a date and time\", initial=datetime.datetime.now()\n",
    ")"
   ]
  },
  {
   "cell_type": "code",
   "execution_count": null,
   "id": "2331ebcd-a357-49e1-ac9b-bee42cf0f011",
   "metadata": {
    "tags": [
     "remove_input"
    ]
   },
   "outputs": [],
   "source": [
    "dp.Compute(my_function, target=dp.TargetMode.SELF, controls=[control])"
   ]
  },
  {
   "cell_type": "markdown",
   "id": "b0ddf16e",
   "metadata": {},
   "source": [
    "::: datapane.blocks.parameters.File\n",
    "    options:\n",
    "          members:\n",
    "              - __init__"
   ]
  },
  {
   "cell_type": "code",
   "execution_count": null,
   "id": "4cfa9eb6",
   "metadata": {},
   "outputs": [],
   "source": [
    "control = dp.File(\"data\", label=\"Upload a CSV file\")"
   ]
  },
  {
   "cell_type": "code",
   "execution_count": null,
   "id": "a9d257e8",
   "metadata": {
    "tags": [
     "remove_input"
    ]
   },
   "outputs": [],
   "source": [
    "dp.Compute(my_function, target=dp.TargetMode.SELF, controls=[control])"
   ]
  }
 ],
 "metadata": {
  "language_info": {
   "name": "python"
  }
 },
 "nbformat": 4,
 "nbformat_minor": 5
}
