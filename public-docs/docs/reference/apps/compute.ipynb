{
 "cells": [
  {
   "cell_type": "code",
   "execution_count": null,
   "id": "1da86f2b-1f52-41c2-aab8-001d0924a78d",
   "metadata": {
    "tags": [
     "remove_cell"
    ]
   },
   "outputs": [],
   "source": [
    "import datapane as dp"
   ]
  },
  {
   "attachments": {},
   "cell_type": "markdown",
   "id": "779f88f6",
   "metadata": {},
   "source": [
    "::: datapane.blocks.compute.Empty"
   ]
  },
  {
   "attachments": {},
   "cell_type": "markdown",
   "id": "cac44fe9",
   "metadata": {},
   "source": [
    "::: datapane.blocks.compute.Form"
   ]
  },
  {
   "attachments": {},
   "cell_type": "markdown",
   "id": "fcbd8fa5",
   "metadata": {},
   "source": [
    "::: datapane.blocks.compute.Dynamic"
   ]
  },
  {
   "attachments": {},
   "cell_type": "markdown",
   "id": "0a6d0641-84a7-4de6-8a74-8c7028ce94e6",
   "metadata": {},
   "source": [
    "::: datapane.blocks.compute.Compute\n",
    "    options:\n",
    "          members:\n",
    "              - __init__\n",
    "    "
   ]
  }
 ],
 "metadata": {
  "language_info": {
   "name": "python"
  }
 },
 "nbformat": 4,
 "nbformat_minor": 5
}
