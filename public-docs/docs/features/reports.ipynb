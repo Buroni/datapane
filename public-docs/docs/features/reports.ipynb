{
 "cells": [
  {
   "cell_type": "markdown",
   "id": "7a7d09df-a1f5-45f4-b595-a8079b0a9f1f",
   "metadata": {},
   "source": [
    "Reports are data-centric documents which you can generate from inside of your Python analysis and easily share. You can think of them as replacements for sending a PDF or PowerPoint.\n",
    "\n",
    "Reports can contain display blocks (such as datasets and plots) and layout blocks (such as dropdowns), but, unlike [apps](./apps/introduction.md), do not support compute blocks (such as forms). This means they can be exported as standalone HTML files and sent over Slack or email.\n",
    "\n",
    "Reports are often created programmatically from inside other platforms, such as a data pipelines (\"LightGBM training results v230\"), or generated on a cadence (\"Monday's sales forecast\").\n",
    "\n",
    "The example below generates a report with a heading, figure, interactive figure, and interactive data table."
   ]
  },
  {
   "cell_type": "code",
   "execution_count": null,
   "id": "7e75873a-7dbe-4554-82f8-ed77a8c26499",
   "metadata": {
    "tags": [
     "remove_all_output"
    ]
   },
   "outputs": [],
   "source": [
    "import altair as alt\n",
    "import datapane as dp\n",
    "from vega_datasets import data\n",
    "\n",
    "df = data.iris()\n",
    "\n",
    "fig = (\n",
    "    alt.Chart(df)\n",
    "    .mark_point()\n",
    "    .encode(x=\"petalLength:Q\", y=\"petalWidth:Q\", color=\"species:N\")\n",
    ")\n",
    "\n",
    "\n",
    "v = dp.Blocks(\"# My report\", dp.Plot(fig), dp.DataTable(df))\n",
    "\n",
    "dp.save_report(v, path=\"my_report.html\")"
   ]
  },
  {
   "cell_type": "code",
   "execution_count": null,
   "id": "1ce16750-15a9-41f1-8ae4-c3a3ac7796e0",
   "metadata": {
    "tags": [
     "remove_input"
    ]
   },
   "outputs": [],
   "source": [
    "v"
   ]
  },
  {
   "cell_type": "markdown",
   "id": "b0e45243-da66-4c63-a749-1878b9fee9c6",
   "metadata": {},
   "source": [
    "[Datapane Cloud](https://cloud.datapane.com) also provides a platform for hosting and sharing reports securely."
   ]
  }
 ],
 "metadata": {
  "language_info": {
   "name": "python"
  }
 },
 "nbformat": 4,
 "nbformat_minor": 5
}
