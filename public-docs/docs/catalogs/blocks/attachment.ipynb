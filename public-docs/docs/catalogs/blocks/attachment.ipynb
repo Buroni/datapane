{
 "cells": [
  {
   "cell_type": "code",
   "execution_count": null,
   "id": "dd454bee-6090-4e24-9101-e129db2e9da9",
   "metadata": {
    "tags": [
     "remove_cell"
    ]
   },
   "outputs": [],
   "source": [
    "import datapane as dp"
   ]
  },
  {
   "cell_type": "markdown",
   "id": "b1c4299f-344e-475a-9e61-1814471a08de",
   "metadata": {},
   "source": [
    "# Attachments and Python objects"
   ]
  },
  {
   "cell_type": "markdown",
   "id": "fb1b991d-2cf3-4b2b-8cc8-19c544733100",
   "metadata": {},
   "source": [
    "::: datapane.Attachment"
   ]
  },
  {
   "cell_type": "markdown",
   "id": "36eaa88c-d853-4699-bda9-bd002659abda",
   "metadata": {},
   "source": [
    "## Simple attachment"
   ]
  },
  {
   "cell_type": "code",
   "execution_count": null,
   "id": "3885465f-c5ca-4947-8b30-99db431ea4d7",
   "metadata": {
    "tags": []
   },
   "outputs": [],
   "source": [
    "data_path = \"./netflix_stock_data.csv\"\n",
    "\n",
    "dp.Attachment(file=data_path)"
   ]
  },
  {
   "cell_type": "markdown",
   "id": "d8da6076-7427-4fd7-b391-770f01847bb5",
   "metadata": {},
   "source": [
    "## Python object attachment"
   ]
  },
  {
   "cell_type": "code",
   "execution_count": null,
   "id": "d773ff16-190e-4de3-b91b-5e530a7dea0d",
   "metadata": {
    "tags": []
   },
   "outputs": [],
   "source": [
    "vehicle_dict = {\"brand\": \"Ford\", \"model\": \"Mustang\", \"year\": 1964}\n",
    "\n",
    "dp.Attachment(vehicle_dict, name=\"vehicle_dict\")"
   ]
  },
  {
   "cell_type": "markdown",
   "id": "62528a0d-94b8-4639-8f16-8c8e7148ff41",
   "metadata": {},
   "source": [
    "## Multiple attachments"
   ]
  },
  {
   "cell_type": "code",
   "execution_count": null,
   "id": "1cfa6042-fedc-4c26-8872-96958f07ed1b",
   "metadata": {
    "tags": []
   },
   "outputs": [],
   "source": [
    "data_path = \"./netflix_stock_data.csv\"\n",
    "\n",
    "vehicle_dict = {\"brand\": \"Ford\", \"model\": \"Mustang\", \"year\": 1964}\n",
    "\n",
    "dp.Group(\n",
    "    dp.Attachment(file=data_path), dp.Attachment(vehicle_dict, name=\"vehicle_dict\")\n",
    ")"
   ]
  }
 ],
 "metadata": {
  "language_info": {
   "name": "python"
  }
 },
 "nbformat": 4,
 "nbformat_minor": 5
}
