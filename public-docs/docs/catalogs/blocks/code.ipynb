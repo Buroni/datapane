{
 "cells": [
  {
   "cell_type": "code",
   "execution_count": null,
   "id": "69eba94c-dd65-4d1c-acde-2af2530fbf6f",
   "metadata": {
    "tags": [
     "remove_cell"
    ]
   },
   "outputs": [],
   "source": [
    "import datapane as dp"
   ]
  },
  {
   "cell_type": "markdown",
   "id": "4a78a84f-49c2-4185-a29f-4a0d84ac947b",
   "metadata": {},
   "source": [
    "# Code\n",
    "\n",
    "::: datapane.Code"
   ]
  },
  {
   "cell_type": "markdown",
   "id": "657bafec-4b68-41f3-b7e7-dc341526ae6e",
   "metadata": {},
   "source": [
    "## Simple Code Block"
   ]
  },
  {
   "cell_type": "code",
   "execution_count": null,
   "id": "3b2dfdf8-2978-420e-9a18-4aa93849d03b",
   "metadata": {
    "tags": []
   },
   "outputs": [],
   "source": [
    "code = \"\"\"\n",
    "function foo(n) {\n",
    "  return foo(n + 1)\n",
    "}\n",
    "\"\"\"\n",
    "\n",
    "dp.Code(code=code, language=\"javascript\")"
   ]
  }
 ],
 "metadata": {
  "language_info": {
   "name": "python"
  }
 },
 "nbformat": 4,
 "nbformat_minor": 5
}
