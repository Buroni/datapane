{
 "cells": [
  {
   "cell_type": "code",
   "execution_count": null,
   "id": "331bc204-2b46-41e0-a298-6009b8d9df8b",
   "metadata": {
    "tags": [
     "remove_cell"
    ]
   },
   "outputs": [],
   "source": [
    "import datapane as dp"
   ]
  },
  {
   "cell_type": "markdown",
   "id": "816c341a-cb80-4039-8487-26a93a694283",
   "metadata": {},
   "source": [
    "# Maps\n",
    "\n",
    "::: datapane.Plot\n",
    "\n",
    "Datapane currently supports the following libraries for mapping geographical data:\n",
    "\n",
    "| Library | Site / Docs |\n",
    "| :--- | :--- |\n",
    "| [Folium](#folium) | [https://python-visualization.github.io/folium/](https://python-visualization.github.io/folium/) |\n",
    "| [Altair](/catalogs/blocks/plot/#altair) | [https://altair-viz.github.io/](https://altair-viz.github.io/) |\n",
    "| [Matplotlib / Seaborn](/catalogs/blocks/plot/#matplotlib) | [https://matplotlib.org/](https://matplotlib.org/) / [https://seaborn.pydata.org/](https://seaborn.pydata.org/) |\n",
    "| [Bokeh](/catalogs/blocks/plot/#bokeh) | [https://bokeh.org/](https://bokeh.org/) |\n",
    "| [Plotly](catalogs/blocks/plot/#plotly) | [https://plotly.com/python/](https://plotly.com/python/) |\n",
    "\n",
    "If you're using another visualization library e.g. Pyvis for networks, try saving your chart as a local HTML file and wrapping that in a [dp.HTML](/catalogs/blocks/html) block. \n",
    "\n",
    "## Folium\n",
    "\n",
    "[Folium](https://python-visualization.github.io/folium/) makes it easy to visualize data that’s been manipulated in Python on an interactive leaflet map. It enables both the binding of data to a map for `choropleth` visualizations as well as passing rich vector/raster/HTML visualizations as markers on the map.\n",
    "\n",
    "The library has a number of built-in tilesets from OpenStreetMap, Mapbox, and Stamen, and supports custom tilesets with Mapbox or Cloudmade API keys. \n",
    "\n",
    "!!! info\n",
    "    \n",
    "    If your folium map consumes live data which expires after a certain time, you can automate it to refresh the map on a cadence. See [Automation](/tutorials/automation)."
   ]
  },
  {
   "cell_type": "code",
   "execution_count": null,
   "id": "98872e9c-7999-4377-a3bf-f0086f8e448b",
   "metadata": {
    "tags": []
   },
   "outputs": [],
   "source": [
    "import folium\n",
    "\n",
    "m = folium.Map(location=[45.5236, -122.6750])\n",
    "\n",
    "dp.Plot(m)"
   ]
  }
 ],
 "metadata": {
  "language_info": {
   "name": "python"
  }
 },
 "nbformat": 4,
 "nbformat_minor": 5
}
