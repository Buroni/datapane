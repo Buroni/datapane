{
 "cells": [
  {
   "cell_type": "code",
   "execution_count": null,
   "id": "52f4d01b-564b-4fa7-91d5-e8ba6b42142d",
   "metadata": {
    "tags": [
     "remove_cell"
    ]
   },
   "outputs": [],
   "source": [
    "import datapane as dp"
   ]
  },
  {
   "cell_type": "markdown",
   "id": "52bddb17-ebd8-4ef9-8380-5aca261f5f4d",
   "metadata": {},
   "source": [
    "# Formulas\n",
    "\n",
    "::: datapane.Formula"
   ]
  },
  {
   "cell_type": "markdown",
   "id": "32f6d219-fa75-48bb-8cad-8e0900ca21a2",
   "metadata": {},
   "source": [
    "## Simple LaTeX Formula"
   ]
  },
  {
   "cell_type": "code",
   "execution_count": null,
   "id": "7f0e2b31-22e7-4518-bf88-4fbf171b03ab",
   "metadata": {
    "tags": []
   },
   "outputs": [],
   "source": [
    "dp.Formula(r\"\\frac{1}{\\sqrt{x^2 + 1}}\")"
   ]
  }
 ],
 "metadata": {
  "language_info": {
   "name": "python"
  }
 },
 "nbformat": 4,
 "nbformat_minor": 5
}
