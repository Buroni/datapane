{
 "cells": [
  {
   "cell_type": "code",
   "execution_count": null,
   "id": "a3bb018b-6de3-4b28-aca5-fb3043c4fbf1",
   "metadata": {
    "tags": [
     "remove_cell"
    ]
   },
   "outputs": [],
   "source": [
    "import datapane as dp"
   ]
  },
  {
   "cell_type": "markdown",
   "id": "72013dca-0427-4fc6-842e-f495beceab7b",
   "metadata": {},
   "source": [
    "# Media\n",
    "\n",
    "::: datapane.Media\n",
    "\n",
    "## Simple image embed\n",
    "\n",
    "In the following example, Datapane will display images in your app for viewers and allow users to download them."
   ]
  },
  {
   "cell_type": "code",
   "execution_count": null,
   "id": "0f025658-d0f5-4396-bce8-b96f7fe6a889",
   "metadata": {
    "tags": []
   },
   "outputs": [],
   "source": [
    "dp.Media(file=\"./image.png\", name=\"Image1\", caption=\"Datapane in action!\")"
   ]
  }
 ],
 "metadata": {
  "language_info": {
   "name": "python"
  }
 },
 "nbformat": 4,
 "nbformat_minor": 5
}
