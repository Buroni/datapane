{
 "cells": [
  {
   "cell_type": "code",
   "execution_count": null,
   "id": "338eaf85-bcde-46f1-b76d-d2d0f4fb1773",
   "metadata": {
    "tags": [
     "remove_cell"
    ]
   },
   "outputs": [],
   "source": [
    "import datapane as dp"
   ]
  },
  {
   "cell_type": "markdown",
   "id": "5382ddff-15af-4a81-8cf8-df55e91fe1ae",
   "metadata": {},
   "source": [
    "# HTML\n",
    "\n",
    "::: datapane.HTML   "
   ]
  },
  {
   "cell_type": "markdown",
   "id": "b3b34a86-8087-4316-a698-1bc4fda1a96c",
   "metadata": {},
   "source": [
    "## Simple HTML content"
   ]
  },
  {
   "cell_type": "code",
   "execution_count": null,
   "id": "3f75e54c-6b48-4fc6-b3e8-568ff87d58bb",
   "metadata": {
    "tags": []
   },
   "outputs": [],
   "source": [
    "html = \"\"\"\n",
    "<html>\n",
    "    <style type='text/css'>\n",
    "        @keyframes example {\n",
    "            0%   {color: #EEE;}\n",
    "            25%  {color: #EC4899;}\n",
    "            50%  {color: #8B5CF6;}\n",
    "            100% {color: #EF4444;}\n",
    "        }\n",
    "        #container {\n",
    "            background: #1F2937;\n",
    "            padding: 10em;\n",
    "        }\n",
    "        h1 {\n",
    "            color:#eee;\n",
    "            animation-name: example;\n",
    "            animation-duration: 4s;\n",
    "            animation-iteration-count: infinite;\n",
    "        }\n",
    "    </style>\n",
    "    <div id=\"container\">\n",
    "      <h1> Welcome to my App </h1>\n",
    "    </div>\n",
    "</html>\n",
    "\"\"\"\n",
    "\n",
    "dp.HTML(html)"
   ]
  }
 ],
 "metadata": {
  "language_info": {
   "name": "python"
  }
 },
 "nbformat": 4,
 "nbformat_minor": 5
}
