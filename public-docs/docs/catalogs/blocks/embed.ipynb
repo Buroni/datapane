{
 "cells": [
  {
   "cell_type": "code",
   "execution_count": null,
   "id": "2f31db0b-4ccb-4bbc-b9a2-cfafba45715f",
   "metadata": {
    "tags": [
     "remove_cell"
    ]
   },
   "outputs": [],
   "source": [
    "import datapane as dp"
   ]
  },
  {
   "cell_type": "markdown",
   "id": "5679acac-3960-44fb-b486-952d4ef249c3",
   "metadata": {
    "tags": []
   },
   "source": [
    "# Embeds\n",
    "\n",
    "::: datapane.Embed"
   ]
  },
  {
   "cell_type": "markdown",
   "id": "a04aa872-8205-4f0f-8d2c-edf09dfd8350",
   "metadata": {},
   "source": [
    "## Simple YouTube embed"
   ]
  },
  {
   "cell_type": "code",
   "execution_count": null,
   "id": "cdff0811-1c7f-4cf5-9ab4-6611c9c5b90f",
   "metadata": {
    "tags": []
   },
   "outputs": [],
   "source": [
    "dp.Embed(url='https://www.youtube.com/watch?v=_KS_yZBI71s&t')"
   ]
  },
  {
   "cell_type": "markdown",
   "id": "09b76b7a-d5ff-40cb-a778-1f9640703d87",
   "metadata": {},
   "source": [
    "You don't need to use this block for simple embeds, e.g. GIFs. For those, just use Markdown syntax i.e. `![](https://my-example-gif.gif)`"
   ]
  }
 ],
 "metadata": {
  "language_info": {
   "name": "python"
  }
 },
 "nbformat": 4,
 "nbformat_minor": 5
}
