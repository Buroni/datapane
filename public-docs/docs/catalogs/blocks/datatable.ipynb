{
 "cells": [
  {
   "cell_type": "code",
   "execution_count": null,
   "id": "d1a15fc8-f4a9-4340-a68f-5a3a41eca93d",
   "metadata": {
    "tags": [
     "remove_cell"
    ]
   },
   "outputs": [],
   "source": [
    "import datapane as dp"
   ]
  },
  {
   "cell_type": "markdown",
   "id": "cd383738-f830-46f9-9e1c-2b89af5347bd",
   "metadata": {
    "tags": []
   },
   "source": [
    "# DataTable\n",
    "\n",
    "::: datapane.DataTable"
   ]
  },
  {
   "cell_type": "markdown",
   "id": "8ff9cf19-ffc1-420c-b0de-223f251ebaf1",
   "metadata": {},
   "source": [
    "## Simple DataTable from DataFrame"
   ]
  },
  {
   "cell_type": "code",
   "execution_count": null,
   "id": "61fa442c-9b0f-4f86-a280-fdb0c87a7e53",
   "metadata": {
    "tags": []
   },
   "outputs": [],
   "source": [
    "import pandas as pd\n",
    "import numpy as np\n",
    "\n",
    "df = pd.DataFrame(\n",
    "    {\n",
    "        \"A\": np.random.normal(-1, 1, 5000),\n",
    "        \"B\": np.random.normal(1, 2, 5000),\n",
    "    }\n",
    ")\n",
    "\n",
    "dp.DataTable(df)"
   ]
  },
  {
   "cell_type": "markdown",
   "id": "bfc506b7-2fcf-4bbc-8fdd-6c727fb65e7d",
   "metadata": {},
   "source": [
    "## Running Queries on DataTable\n",
    "\n",
    "You can run SQL queries on your datatable if you need more advanced filtering & calculations. In the previous example, if we wanted to show only the rows which had a value A > 0.5, we would write the following (note that `$table` is the builtin table name and cannot be changed):  &#x20;\n",
    "\n",
    "```sql\n",
    "SELECT * FROM $table\n",
    "WHERE A > 0.5\n",
    "```"
   ]
  }
 ],
 "metadata": {
  "language_info": {
   "name": "python"
  }
 },
 "nbformat": 4,
 "nbformat_minor": 5
}
