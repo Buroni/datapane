{
 "cells": [
  {
   "cell_type": "code",
   "execution_count": null,
   "id": "02568f11-de30-4e0e-a222-e6e3d17aaafd",
   "metadata": {
    "tags": [
     "remove_cell"
    ]
   },
   "outputs": [],
   "source": [
    "import datapane as dp"
   ]
  },
  {
   "cell_type": "markdown",
   "id": "39b916e3-301f-405a-bc69-3e1e3722c152",
   "metadata": {},
   "source": [
    "# BigNumber"
   ]
  },
  {
   "cell_type": "markdown",
   "id": "760e502b-0bb6-4a7b-a34a-92533f84b2d2",
   "metadata": {},
   "source": [
    "::: datapane.BigNumber"
   ]
  },
  {
   "cell_type": "markdown",
   "id": "179c6539-cb78-4041-b225-1579343311ec",
   "metadata": {},
   "source": [
    "## Simple BigNumber"
   ]
  },
  {
   "cell_type": "code",
   "execution_count": null,
   "id": "946e9627-75d2-4eab-a78c-7b42603e4496",
   "metadata": {
    "tags": []
   },
   "outputs": [],
   "source": [
    "dp.BigNumber(heading=\"Simple Statistic\", value=100)"
   ]
  },
  {
   "cell_type": "markdown",
   "id": "e90dc066-1a0b-4557-bb8e-067fa877fb43",
   "metadata": {},
   "source": [
    "## BigNumber with change indicators"
   ]
  },
  {
   "cell_type": "code",
   "execution_count": null,
   "id": "d4da4154-3159-446e-9efe-2d34dabad46b",
   "metadata": {
    "tags": []
   },
   "outputs": [],
   "source": [
    "dp.Group(\n",
    "    dp.BigNumber(\n",
    "        heading=\"Percentage points\",\n",
    "        value=\"84%\",\n",
    "        change=\"2%\",\n",
    "        is_upward_change=True,\n",
    "    ),\n",
    "    dp.BigNumber(\n",
    "        heading=\"Percentage points\",\n",
    "        value=\"84%\",\n",
    "        change=\"2%\",\n",
    "        is_upward_change=False,\n",
    "    ),\n",
    "    dp.BigNumber(\n",
    "        heading=\"Points\",\n",
    "        value=\"1234\",\n",
    "        change=\"200\",\n",
    "        is_upward_change=True,\n",
    "    ),\n",
    "    dp.BigNumber(\n",
    "        heading=\"Points\",\n",
    "        value=\"1234\",\n",
    "        change=\"200\",\n",
    "        is_upward_change=False,\n",
    "    ),\n",
    "    columns=2,\n",
    ")"
   ]
  }
 ],
 "metadata": {
  "language_info": {
   "name": "python"
  }
 },
 "nbformat": 4,
 "nbformat_minor": 5
}
