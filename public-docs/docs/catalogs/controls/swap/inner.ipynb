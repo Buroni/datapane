{
 "cells": [
  {
   "cell_type": "code",
   "execution_count": null,
   "id": "02568f11-de30-4e0e-a222-e6e3d17aaafd",
   "metadata": {
    "tags": [
     "remove_cell"
    ]
   },
   "outputs": [],
   "source": [
    "import datapane as dp"
   ]
  },
  {
   "cell_type": "markdown",
   "id": "39b916e3-301f-405a-bc69-3e1e3722c152",
   "metadata": {},
   "source": [
    "# Inner\n",
    "\n",
    "Targetting an existing container Block (`dp.Group`, `dp.Select`) by ID, replace its contents with the result."
   ]
  },
  {
   "cell_type": "markdown",
   "id": "179c6539-cb78-4041-b225-1579343311ec",
   "metadata": {},
   "source": [
    "## The Control"
   ]
  },
  {
   "cell_type": "code",
   "execution_count": null,
   "id": "0bb3b389-3691-4af9-9cdc-cf1a44fb0671",
   "metadata": {},
   "outputs": [],
   "source": [
    "controls = dp.Controls(\n",
    "    dp.TextBox(\"name\", label=\"Enter your name\")\n",
    ")"
   ]
  },
  {
   "cell_type": "markdown",
   "id": "e7743d53-4c2f-42d1-89e8-bfebcb787fc9",
   "metadata": {},
   "source": [
    "Visit our [API reference]() for information on customizing the control."
   ]
  },
  {
   "cell_type": "markdown",
   "id": "5fe64326-eb5d-4d1e-8386-10988b285299",
   "metadata": {},
   "source": [
    "## The Function\n",
    "\n",
    "This functions returns a text greeting that includes the text input from the user."
   ]
  },
  {
   "cell_type": "code",
   "execution_count": null,
   "id": "1e35fbf2-70d1-4c90-bb1f-c91be537061e",
   "metadata": {},
   "outputs": [],
   "source": [
    "def my_function(params):\n",
    "    return dp.Text(params[\"name\"])"
   ]
  },
  {
   "cell_type": "markdown",
   "id": "a14c0f81-82c8-4e86-8b3a-79c755ff7822",
   "metadata": {},
   "source": [
    "Next, we'll bring it all together with `dp.Function`."
   ]
  },
  {
   "cell_type": "markdown",
   "id": "cbf0c3c2-4074-4aa6-9649-00254ae2fac7",
   "metadata": {},
   "source": [
    "## Swap mechanism\n",
    "\n",
    "We're going to target an existing Block with the ID `\"my_target\"` by setting the `target` to `\"my_target\"`.\n",
    "\n",
    "We can specify the `swap` mechanism with the named parameter in `dp.Function`. Let's replace the contents of our target container with `dp.Swap.INNER`."
   ]
  },
  {
   "cell_type": "code",
   "execution_count": null,
   "id": "7b3d7125-410c-480e-9d4e-41cf4708af9e",
   "metadata": {},
   "outputs": [],
   "source": [
    "function = dp.Function(\n",
    "    my_function,\n",
    "    \"my_target\",\n",
    "    controls,\n",
    "    swap=dp.Swap.INNER,\n",
    ")"
   ]
  },
  {
   "cell_type": "markdown",
   "id": "9fa7b2be-c91c-4ff4-8823-bc9e132575d0",
   "metadata": {},
   "source": [
    "## The View"
   ]
  },
  {
   "cell_type": "markdown",
   "id": "3ed3f147-98f9-4a8a-85a7-b9f0571cac99",
   "metadata": {},
   "source": [
    "Finally, we can create a view containing our interactive components from above. We've also included a container, `dp.Group`, with its `name` set to `\"my_target\"`, making this the target of our `dp.Function` above with the corresponding `target`."
   ]
  },
  {
   "cell_type": "code",
   "execution_count": null,
   "id": "946e9627-75d2-4eab-a78c-7b42603e4496",
   "metadata": {
    "tags": []
   },
   "outputs": [],
   "source": [
    "view = dp.View(\n",
    "    function,\n",
    "    dp.Group(\n",
    "        dp.Text(\"Hello World\"),\n",
    "        name=\"my_target\",\n",
    "    ),\n",
    ")"
   ]
  },
  {
   "cell_type": "markdown",
   "id": "0cc1a96a-5d8c-442c-8f8c-3d53aabda300",
   "metadata": {},
   "source": [
    "## Test locally"
   ]
  },
  {
   "cell_type": "markdown",
   "id": "ad50b5ef-553e-401d-b494-9f26d25f34ed",
   "metadata": {},
   "source": [
    "Let's test our controls by serving locally.\n",
    "\n",
    "```python\n",
    "dp.serve(view)\n",
    "```"
   ]
  },
  {
   "cell_type": "markdown",
   "id": "16e5d7ee-b09b-4a1f-9a45-e02fac97c3e3",
   "metadata": {
    "tags": []
   },
   "source": [
    "## Deployment and testing publicly\n",
    "\n",
    "Visit our [deployment]() and [testing]() sections for next steps."
   ]
  }
 ],
 "metadata": {
  "language_info": {
   "name": "python"
  }
 },
 "nbformat": 4,
 "nbformat_minor": 5
}
