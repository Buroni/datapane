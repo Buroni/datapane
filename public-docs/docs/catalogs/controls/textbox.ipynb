{
 "cells": [
  {
   "cell_type": "code",
   "execution_count": null,
   "id": "02568f11-de30-4e0e-a222-e6e3d17aaafd",
   "metadata": {
    "tags": [
     "remove_cell"
    ]
   },
   "outputs": [],
   "source": [
    "import datapane as dp"
   ]
  },
  {
   "cell_type": "markdown",
   "id": "39b916e3-301f-405a-bc69-3e1e3722c152",
   "metadata": {},
   "source": [
    "# TextBox\n",
    "\n",
    "A single-line text field where the user can enter data."
   ]
  },
  {
   "cell_type": "markdown",
   "id": "179c6539-cb78-4041-b225-1579343311ec",
   "metadata": {},
   "source": [
    "## The Control"
   ]
  },
  {
   "cell_type": "code",
   "execution_count": null,
   "id": "0bb3b389-3691-4af9-9cdc-cf1a44fb0671",
   "metadata": {},
   "outputs": [],
   "source": [
    "controls = dp.Controls(\n",
    "    dp.TextBox(\"name\", label=\"Enter your name\")\n",
    ")"
   ]
  },
  {
   "cell_type": "markdown",
   "id": "e7743d53-4c2f-42d1-89e8-bfebcb787fc9",
   "metadata": {},
   "source": [
    "Visit our [API reference]() for information on customizing the control."
   ]
  },
  {
   "cell_type": "markdown",
   "id": "5fe64326-eb5d-4d1e-8386-10988b285299",
   "metadata": {},
   "source": [
    "## The Function\n",
    "\n",
    "First, we'll create a function that expects parameters as a dictionary, which will include a pair with the key specified above, `name`, with the value containing the user input.\n",
    "\n",
    "It returns a `dp.Text` object to greet the user."
   ]
  },
  {
   "cell_type": "code",
   "execution_count": null,
   "id": "1e35fbf2-70d1-4c90-bb1f-c91be537061e",
   "metadata": {},
   "outputs": [],
   "source": [
    "def my_function(params):\n",
    "    return dp.Text(params[\"name\"], name=\"greeting\")"
   ]
  },
  {
   "cell_type": "markdown",
   "id": "a14c0f81-82c8-4e86-8b3a-79c755ff7822",
   "metadata": {},
   "source": [
    "Next, we'll bring it all together with `dp.Function`."
   ]
  },
  {
   "cell_type": "code",
   "execution_count": null,
   "id": "7b3d7125-410c-480e-9d4e-41cf4708af9e",
   "metadata": {},
   "outputs": [],
   "source": [
    "function = dp.Function(my_function, \"greeting\", controls)"
   ]
  },
  {
   "cell_type": "markdown",
   "id": "bbd682dc-b74d-4ed6-900b-db639c81b922",
   "metadata": {},
   "source": [
    "We can preview this in a notebook environment if we want a peek."
   ]
  },
  {
   "cell_type": "code",
   "execution_count": null,
   "id": "57c5f382-7657-4646-b4f7-971940d57acd",
   "metadata": {},
   "outputs": [],
   "source": [
    "function"
   ]
  },
  {
   "cell_type": "markdown",
   "id": "0322209e-02e3-4028-982a-af7c40bf247e",
   "metadata": {},
   "source": [
    "Our parameters in order indicate:\n",
    "\n",
    "- The function to be invoked upon form submission.\n",
    "- The target of whatevers returned by the function, i.e. where we'll place the updated blocks.\n",
    "- The controls that we want inside our form."
   ]
  },
  {
   "cell_type": "markdown",
   "id": "9fa7b2be-c91c-4ff4-8823-bc9e132575d0",
   "metadata": {},
   "source": [
    "## The View"
   ]
  },
  {
   "cell_type": "markdown",
   "id": "3ed3f147-98f9-4a8a-85a7-b9f0571cac99",
   "metadata": {},
   "source": [
    "Let's create a view containing our interactive components from above, and an initial message that greets the user."
   ]
  },
  {
   "cell_type": "code",
   "execution_count": null,
   "id": "946e9627-75d2-4eab-a78c-7b42603e4496",
   "metadata": {
    "tags": []
   },
   "outputs": [],
   "source": [
    "view = dp.View(\n",
    "    function,\n",
    "    dp.Text(\"Please enter your name\", name=\"greeting\"),\n",
    ")"
   ]
  },
  {
   "cell_type": "markdown",
   "id": "751c08be-741b-40ce-acf7-27f5c04456ca",
   "metadata": {},
   "source": [
    "!!! note\n",
    "\n",
    "The initial `dp.Text` has the `name` \"greeting\", as does the `dp.Text` that is returned by our function `my_function`. With this, we can re-submit the form multiple times and ensure our target, \"greeting\", is always available."
   ]
  },
  {
   "cell_type": "markdown",
   "id": "e99c6a38-9774-4a3e-a52f-ee0ca0bdeda6",
   "metadata": {},
   "source": [
    "## Preview in a notebook"
   ]
  },
  {
   "cell_type": "markdown",
   "id": "e8668cf0-76b4-4d0f-aaad-b5708ae801b5",
   "metadata": {},
   "source": [
    "Although running functions is only enabled when serving, we can still preview the entire app in our notebook."
   ]
  },
  {
   "cell_type": "code",
   "execution_count": null,
   "id": "056a953d-7c98-4f0b-9b1b-de2b6df9b5ae",
   "metadata": {},
   "outputs": [],
   "source": [
    "view"
   ]
  },
  {
   "cell_type": "markdown",
   "id": "0cc1a96a-5d8c-442c-8f8c-3d53aabda300",
   "metadata": {},
   "source": [
    "## Test locally"
   ]
  },
  {
   "cell_type": "markdown",
   "id": "ad50b5ef-553e-401d-b494-9f26d25f34ed",
   "metadata": {},
   "source": [
    "Let's test our controls by serving locally.\n",
    "\n",
    "```python\n",
    "dp.serve(view)\n",
    "```"
   ]
  },
  {
   "cell_type": "markdown",
   "id": "16e5d7ee-b09b-4a1f-9a45-e02fac97c3e3",
   "metadata": {
    "tags": []
   },
   "source": [
    "## Deployment and testing publicly\n",
    "\n",
    "Visit our [deployment]() and [testing]() sections for next steps."
   ]
  }
 ],
 "metadata": {
  "language_info": {
   "name": "python"
  }
 },
 "nbformat": 4,
 "nbformat_minor": 5
}
