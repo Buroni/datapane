{
 "cells": [
  {
   "attachments": {},
   "cell_type": "markdown",
   "id": "7a7d09df-a1f5-45f4-b595-a8079b0a9f1f",
   "metadata": {},
   "source": [
    "\n",
    "_Datapane Reports_ provide a fast and easy way to share insights, they are data-centric documents which you can generate from inside of your Python analysis. You can think of them as replacements for sending a PDF or PowerPoint, \n",
    "\n",
    "Reports can contain display blocks (such as datasets and plots) and layout blocks (such as dropdowns), but, unlike [Datapane Apps](../apps/overview.md), do not support Compute blocks (such as `Forms`). This means they can be exported as standalone HTML files and sent over Slack or email.\n",
    "\n",
    "Reports are often created programmatically from inside other platforms, such as a data pipelines (_\"LightGBM training results v230\"_), CI, or generated on a cadence (_\"Monday's sales forecast\"_).\n",
    "\n",
    "!!! tip\n",
    "    Generating a Report is somewhat similar to generating static-site generator for HTML, like `Hugo` or `Jekyll`\n",
    "\n",
    "Datapane Reports provide a way to share your Data View with others, for instance\n",
    "- save your report, as per the example, as a standalone, self-contained, static HTML file that you can share\n",
    "- export your report as a HTML with all it's data assets, for uploading to web hosts like GitHub Pages or on a Cloud Bucket like S3\n",
    "- upload your report to Datapane Cloud, which provides sharing and authentication facilitates so you can publicly or securely share your report easily with your team.\n",
    "- embed your report within your own internal applications and on third-party sites like Medium and Reddit\n",
    "\n",
    "\n",
    "## Example\n",
    "\n",
    "The example below builds upon the View in the previous section, comprising of a heading, figure, interactive figure, and interactive data table. \n",
    "\n",
    "Datapane makes it really easy to convert this into a Report, as per the examples below (see the [API reference](../reference/reports.md) for further details)."
   ]
  },
  {
   "cell_type": "code",
   "execution_count": null,
   "id": "7e75873a-7dbe-4554-82f8-ed77a8c26499",
   "metadata": {
    "tags": [
     "remove_all_output"
    ]
   },
   "outputs": [],
   "source": [
    "import altair as alt\n",
    "import datapane as dp\n",
    "from vega_datasets import data\n",
    "\n",
    "df = data.iris()\n",
    "\n",
    "fig = (\n",
    "    alt.Chart(df)\n",
    "    .mark_point()\n",
    "    .encode(x=\"petalLength:Q\", y=\"petalWidth:Q\", color=\"species:N\")\n",
    ")\n",
    "\n",
    "view = dp.Blocks(\"# My report\", dp.Plot(fig), dp.DataTable(df))"
   ]
  },
  {
   "attachments": {},
   "cell_type": "markdown",
   "id": "d881362e",
   "metadata": {},
   "source": [
    "## Saving Reports\n",
    "\n",
    "Reports can be saved / exported as a standalone file which can be shared without a server. All data and plots are encapsulated in a single HTML file, which provides a secure and low-barrier sharing method. Views can be exported as a standalone report using `dp.save_report`:\n",
    "\n",
    "```python\n",
    "# save as a static HTML-based report\n",
    "dp.save_report(view, path=\"my_report.html\")\n",
    "```\n",
    "\n",
    "You can [view the saved report](./my_report.html){:target=_blank}, [download it](./my_report.html){:download=my_report.html}, open it locally, send via email, etc."
   ]
  },
  {
   "cell_type": "code",
   "execution_count": null,
   "id": "1ce16750-15a9-41f1-8ae4-c3a3ac7796e0",
   "metadata": {
    "tags": [
     "remove_input",
     "remove_all_output"
    ]
   },
   "outputs": [],
   "source": [
    "# view"
   ]
  },
  {
   "attachments": {},
   "cell_type": "markdown",
   "id": "b0e45243-da66-4c63-a749-1878b9fee9c6",
   "metadata": {},
   "source": [
    "## Uploading Reports\n",
    "\n",
    "Exported reports are really useful however come with some downsides, for instance they are large, difficult to share and have no access controls. Furthermore as they are static they can not be modified into Apps to benefit from user interaction, background processing and more.\n",
    "\n",
    "[Datapane Cloud](https://cloud.datapane.com) provides a free platform for hosting, sharing, and embedding reports securely. See [here](../misc/installing-datapane.md#datapane-cloud) for more information on getting started with Datapane Cloud.\n",
    "\n",
    "Once you've logged in via the `datapane` client, you can use the following command to upload your report to Datapane Cloud,\n",
    "\n",
    "```python\n",
    "dp.upload_report(view, name=\"My Report\")\n",
    "```\n",
    "\n",
    "The full API docs for `upload_report` can be found at [datapane.processors.api.upload_report] and includes options to configure the Report project, visibility, and more. You can view the above report uploaded to Datapane Cloud [here](https://cloud.datapane.com/...)\n",
    "\n",
    "\n",
    "## Embedding Reports\n",
    "\n",
    "Reports uploaded to Datapane Cloud can easily be embedded into other services applications.\n",
    "\n",
    "- We support the OEmbed protocol, which means that, similar to YouTube, pasting the link to any public report on Datapane Cloud on a compatible service will automatically embed the report within the site. This is supported for common sites like Reddit, Medium, and others\n",
    "- We also support the Card protocols used by Slack, Facebook, Twitter, and others, which generate a thumbnail and description of your report to ease sharing it within your community or workplace\n",
    "- Finally, with the paid tiers, it's possible to security embed and even whitelabel your private reports within your applications, be they internal applications or even your customer-facing products\n",
    "\n"
   ]
  }
 ],
 "metadata": {
  "language_info": {
   "name": "python"
  }
 },
 "nbformat": 4,
 "nbformat_minor": 5
}
