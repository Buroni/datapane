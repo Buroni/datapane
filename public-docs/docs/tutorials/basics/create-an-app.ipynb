{
 "cells": [
  {
   "cell_type": "code",
   "execution_count": null,
   "id": "8cb1287c-b037-4c58-a975-6c5a973fbf45",
   "metadata": {
    "tags": [
     "remove_cell"
    ]
   },
   "outputs": [],
   "source": [
    "import warnings\n",
    "warnings.filterwarnings(\"ignore\")"
   ]
  },
  {
   "cell_type": "markdown",
   "id": "1448a5d1-f704-4758-bd49-5bc2e2ad9eef",
   "metadata": {},
   "source": [
    "# Create an app\n",
    "\n",
    "*Apps let you take the results inside your analysis (such as plots and datasets), and turn them into an interactive web applications which you can share with anyone.*\n",
    "\n",
    "## Introduction\n",
    "\n",
    "You have analyzed data and uncovered some insights in Jupyter, and you now need to share this with a team-member or stakeholder.\n",
    "\n",
    "Datapane makes this simple by allowing you to assemble the plots, data, and code in your notebook into an **app**, which you can share with end-users. Your users can access and use your app using their browser, without understanding or installing Python and Jupyter.\n",
    "\n",
    "Datapane allows you to create apps in a few seconds using the objects you already have in your Python analyses, such as pandas DataFrames, plots from visualization libraries, and Markdown text. Additionally, it provides a set of interactive app components, such as dropdowns, tabs, and pages which allow you to create rich, interactive experiences for your end-users.\n",
    "\n",
    "## A simple app\n",
    "\n",
    "Apps are comprised of a collection of [data-centric blocks](/tutorials/blocks). For instance, Datapane provides a `DataTable` block that takes a pandas `DataFrame`, and displays it as an interactive table in your app. \n",
    "\n",
    "The first step to building and sharing an app is importing datapane's Python library in your Jupyter Notebook or script.\n",
    "\n",
    "Next, we can create a `DataTable` block by passing a `DataFrame` into it, and create a `View` with that single block in it."
   ]
  },
  {
   "cell_type": "code",
   "execution_count": null,
   "id": "807742e4-8289-4757-bd97-3a8e9ebb9727",
   "metadata": {
    "tags": []
   },
   "outputs": [],
   "source": [
    "import pandas as pd\n",
    "import datapane as dp\n",
    "\n",
    "df = pd.read_csv(\n",
    "    \"https://covid.ourworldindata.org/data/vaccinations/vaccinations-by-manufacturer.csv\",\n",
    "    parse_dates=[\"date\"],\n",
    ")\n",
    "df = (\n",
    "    df.groupby([\"vaccine\", \"date\"])[\"total_vaccinations\"].sum().tail(1000).reset_index()\n",
    ")\n",
    "\n",
    "v = dp.View(dp.DataTable(df))"
   ]
  },
  {
   "cell_type": "markdown",
   "id": "1e476f5d-eff1-4ae4-b984-cbb14a592c24",
   "metadata": {},
   "source": [
    "We can now render this app within a Jupyter notebook."
   ]
  },
  {
   "cell_type": "code",
   "execution_count": null,
   "id": "e19a9ac9-0366-423a-b985-0cac27271940",
   "metadata": {},
   "outputs": [],
   "source": [
    "v"
   ]
  },
  {
   "cell_type": "markdown",
   "id": "3a75db27-917b-43f0-9d1f-2eee544de583",
   "metadata": {},
   "source": [
    "Or save it to a local `HTML` file for testing."
   ]
  },
  {
   "cell_type": "code",
   "execution_count": null,
   "id": "565ad765-41f9-4b19-bbb9-eeb97e5648dd",
   "metadata": {},
   "outputs": [],
   "source": [
    "dp.save_report(v, path=\"simple-app.html\")"
   ]
  },
  {
   "cell_type": "markdown",
   "id": "5c432ec3-8389-43d6-a4e7-071272247edb",
   "metadata": {},
   "source": [
    "Copying this code into a notebook or new script and running it will generate the app."
   ]
  },
  {
   "cell_type": "markdown",
   "id": "69bc363f-2245-44dc-a897-16042a5fbc97",
   "metadata": {},
   "source": [
    "!!! Sharing\n",
    "\n",
    "    Local HTML files are good for testing, but the best way to share an app is to host it on the web. If you upload your app to [_Datapane Cloud_](/tutorials/datapane-cloud/upload-an-app-to-datapane-cloud/), you will have a URL which you can share with your audience, who will be able to explore and download your dataset.\n",
    "\n",
    "## A richer app\n",
    "\n",
    "That app was pretty basic, but we can jazz it up by adding some plots and Markdown text. Unlike a BI tool, Datapane does not rely on a proprietary visualization engine; instead, it natively supports Python visualization libraries such as [Altair](https://altair-viz.github.io/), [Plotly](https://plotly.com/python/), [Bokeh](https://bokeh.org/), and [Folium](https://python-visualization.github.io/folium/).\n",
    "\n",
    "Let's take the example above, and plot some data using the Python library Altair and add some text.\n",
    "\n",
    "!!! info\n",
    "\n",
    "    We'll use the below sample code snippet for the rest of the tutorials, so feel free to copy and paste it into a new Python script or Jupyter notebook and follow along."
   ]
  },
  {
   "cell_type": "code",
   "execution_count": null,
   "id": "4222845a-1f22-4e00-a335-7b6b2efbb1f6",
   "metadata": {
    "tags": [
     "remove_all_output"
    ]
   },
   "outputs": [],
   "source": [
    "import pandas as pd\n",
    "import altair as alt\n",
    "import datapane as dp\n",
    "\n",
    "# download data & group by manufacturer\n",
    "df = pd.read_csv(\n",
    "    \"https://covid.ourworldindata.org/data/vaccinations/vaccinations-by-manufacturer.csv\",\n",
    "    parse_dates=[\"date\"],\n",
    ")\n",
    "df = (\n",
    "    df.groupby([\"vaccine\", \"date\"])[\"total_vaccinations\"].sum().tail(1000).reset_index()\n",
    ")\n",
    "\n",
    "# plot vaccinations over time using Altair\n",
    "plot = (\n",
    "    alt.Chart(df)\n",
    "    .mark_area(opacity=0.4, stroke=\"black\")\n",
    "    .encode(\n",
    "        x=\"date:T\",\n",
    "        y=alt.Y(\"total_vaccinations:Q\"),\n",
    "        color=alt.Color(\"vaccine:N\", scale=alt.Scale(scheme=\"set1\")),\n",
    "        tooltip=\"vaccine:N\",\n",
    "    )\n",
    "    .interactive()\n",
    "    .properties(width=\"container\")\n",
    ")\n",
    "\n",
    "# tablulate total vaccinations by manufacturer\n",
    "total_df = (\n",
    "    df[df[\"date\"] == df[\"date\"].max()]\n",
    "    .sort_values(\"total_vaccinations\", ascending=False)\n",
    "    .reset_index(drop=True)\n",
    ")\n",
    "total_styled = total_df.style.bar(\n",
    "    subset=[\"total_vaccinations\"],\n",
    "    color=\"#5fba7d\",\n",
    "    vmax=total_df[\"total_vaccinations\"].sum(),\n",
    ")\n",
    "\n",
    "# embed into a Datapane app\n",
    "v = dp.View(\n",
    "    \"## Vaccination App\",\n",
    "    dp.Plot(plot, caption=\"Vaccinations by manufacturer over time\"),\n",
    "    dp.Table(total_styled, caption=\"Current vaccination totals by manufacturer\"),\n",
    "    dp.DataTable(df, caption=\"Initial Dataset\"),\n",
    ")"
   ]
  },
  {
   "cell_type": "markdown",
   "id": "9703b9f5-294c-4b82-b0c8-88f742896655",
   "metadata": {},
   "source": [
    "Like before, can render this app within a Jupyter notebook."
   ]
  },
  {
   "cell_type": "code",
   "execution_count": null,
   "id": "6abb14e0-fe53-4c6f-a30f-93585e5c1bbb",
   "metadata": {
    "tags": []
   },
   "outputs": [],
   "source": [
    "v"
   ]
  },
  {
   "cell_type": "markdown",
   "id": "e03924d6-feef-4a44-9cf8-013cad60c392",
   "metadata": {},
   "source": [
    "Or save it to a local `HTML` file for testing."
   ]
  },
  {
   "cell_type": "code",
   "execution_count": null,
   "id": "0534938b-3f68-4cd0-8529-e522c24656e3",
   "metadata": {},
   "outputs": [],
   "source": [
    "dp.save_report(v, path=\"richer-app.html\")"
   ]
  },
  {
   "cell_type": "markdown",
   "id": "68ad9af1-8d1a-4e5a-ab4c-ddfacfd8ab9b",
   "metadata": {},
   "source": [
    "Next, we will explore the blocks that make up an app, followed by how to upload and share apps online."
   ]
  }
 ],
 "metadata": {
  "language_info": {
   "name": "python"
  }
 },
 "nbformat": 4,
 "nbformat_minor": 5
}
