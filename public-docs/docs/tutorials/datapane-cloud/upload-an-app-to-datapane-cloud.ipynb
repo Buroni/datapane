{
 "cells": [
  {
   "cell_type": "code",
   "execution_count": null,
   "id": "09371030-68cf-45ef-bbba-79f0017282a0",
   "metadata": {
    "tags": [
     "remove_cell"
    ]
   },
   "outputs": [],
   "source": [
    "import warnings\n",
    "warnings.filterwarnings(\"ignore\")"
   ]
  },
  {
   "cell_type": "markdown",
   "id": "3d064553-12bd-4f34-a481-bf41f98a44b8",
   "metadata": {},
   "source": [
    "# Uploading an app\n",
    "\n",
    "Once you've [logged in](/tutorials/datapane-cloud/authenticate-datapane/#datapane-cloud), run `dp.upload(v, name='your app name')` in your Notebook or script and your app will be uploaded to Datapane Cloud for viewing online. This will return the URL of the app that you can share.\n",
    "\n",
    "Let's see an example app uploaded to Datapane.com, with the `upload` syntax. Set the `open` boolean parameter to `True` to open the app afterwards automatically, and add a `description` to change the preview text for your viewers."
   ]
  },
  {
   "cell_type": "code",
   "execution_count": null,
   "id": "1d267105-a53d-4571-8e99-7c4f9746f604",
   "metadata": {
    "tags": [
     "remove_all_output"
    ]
   },
   "outputs": [],
   "source": [
    "import altair as alt\n",
    "import datapane as dp\n",
    "from vega_datasets import data\n",
    "\n",
    "source = data.cars()\n",
    "\n",
    "plot = (\n",
    "    alt.Chart(source)\n",
    "    .mark_circle(size=60)\n",
    "    .encode(\n",
    "        x=\"Horsepower\",\n",
    "        y=\"Miles_per_Gallon\",\n",
    "        color=\"Origin\",\n",
    "        tooltip=[\"Name\", \"Origin\", \"Horsepower\", \"Miles_per_Gallon\"],\n",
    "    )\n",
    "    .interactive()\n",
    ")\n",
    "\n",
    "v = dp.View(dp.Plot(plot), dp.DataTable(source))\n",
    "v"
   ]
  },
  {
   "cell_type": "markdown",
   "id": "0cff15ba-ae12-4ecd-92f3-200a298a44d6",
   "metadata": {},
   "source": [
    "Once uploaded, you will be able to view your app on the web using the URL provided."
   ]
  },
  {
   "cell_type": "markdown",
   "id": "93850cd9-a152-49b9-b322-0895cbb2edaa",
   "metadata": {},
   "source": [
    "```python\n",
    "dp.upload(v, name=\"My first app\", description=\"Testing out an Altair app\", open=True)\n",
    "```"
   ]
  },
  {
   "cell_type": "markdown",
   "id": "971c042f-00fd-4ec8-af68-c8af81312bb3",
   "metadata": {},
   "source": [
    "Next, we'll cover how you can securely share your app with your team."
   ]
  }
 ],
 "metadata": {
  "language_info": {
   "name": "python"
  }
 },
 "nbformat": 4,
 "nbformat_minor": 5
}
