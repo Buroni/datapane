{
 "cells": [
  {
   "cell_type": "markdown",
   "id": "1fe2a952-3b03-4cc7-8071-693984e3b11e",
   "metadata": {
    "tags": []
   },
   "source": [
    "# 👋 Welcome to Datapane\n",
    "\n",
    "Datapane is an open-source Python framework for creating web apps and reports for data analytics. It makes it simple to build self-service tools for non-technical users which make an impact.\n",
    "\n",
    "## Benefits \n",
    "\n",
    "#### **Not just for MVPs**\n",
    "\n",
    "Deploy to existing web hosts or embed in an existing Python web framework (like Flask). Add background processing, auth, and callbacks to go beyond demos.\n",
    "\n",
    "#### **Share standalone reports with no server**\n",
    "\n",
    "Export static HTML reports which you can share on Slack or Email, with no backend required.\n",
    "\n",
    "#### **Ship apps from Jupyter**\n",
    "\n",
    "Build and ship data apps from inside your Jupyter Notebook and existing scripts in <5 lines of code.\n",
    "\n",
    "## Other Features\n",
    "\n",
    "- User sessions and state handling\n",
    "- Intelligent caching\n",
    "- Sub-5ms function response time\n",
    "- Easy integration with authentication/authorization\n",
    "- Integrate into existing web frameworks (like Flask or FastAPI)\n",
    "- Host on existing web hosts, like Fly and Heroku\n",
    "- Background processing\n",
    "\n",
    "## Get started\n",
    "\n",
    "Get up and running in **10 seconds** with our [Quickstart guide](quickstart/), or get started with our step-by-step tutorials."
   ]
  }
 ],
 "metadata": {
  "language_info": {
   "name": "python"
  }
 },
 "nbformat": 4,
 "nbformat_minor": 5
}
