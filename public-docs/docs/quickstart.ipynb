{
 "cells": [
  {
   "cell_type": "markdown",
   "id": "3ea7576e-1f54-4983-a8d1-1f6c0e2165de",
   "metadata": {},
   "source": [
    "# Quickstart\n",
    "\n",
    "These quick instructions will get you up and running with Datapane in a few minutes! \n",
    "\n",
    "Let's make a simple data app that let's a user create a scatter plot of selected features from the popular [Iris dataset](https://en.wikipedia.org/wiki/Iris_flower_data_set).\n",
    "<iframe width=\"560\" height=\"315\" src=\"https://www.youtube.com/embed/_KS_yZBI71s\" title=\"YouTube video player\" frameborder=\"0\" allow=\"accelerometer; autoplay; clipboard-write; encrypted-media; gyroscope; picture-in-picture\" allowfullscreen></iframe>\n",
    "\n",
    "## Installation\n",
    "\n",
    "We're doing this in a Jupyter Notebook, but you could also use another IDE or Python script. Check out our [installation page](https://docs.datapane.com/tutorials/basics/install-datapane/) for installation options.\n",
    "    \n",
    "Let's get Datapane installed from within our notebook using pip.\n",
    "\n",
    "```python\n",
    "!pip3 install \"https://datapane-cdn.com/python-client/dev/datapane--py3-none-any.whl\"\n",
    "```"
   ]
  },
  {
   "cell_type": "markdown",
   "id": "8e65f2fe-82a3-48f3-8f9e-b61c3e76bcb8",
   "metadata": {},
   "source": [
    "## Creating an app"
   ]
  },
  {
   "cell_type": "code",
   "execution_count": null,
   "id": "3e15ebac-8fae-4b37-a1fc-627e43420109",
   "metadata": {},
   "outputs": [],
   "source": [
    "import altair as alt\n",
    "import datapane as dp\n",
    "from vega_datasets import data"
   ]
  },
  {
   "cell_type": "markdown",
   "id": "41888ecb-53a5-4b78-8027-b026acc486b4",
   "metadata": {},
   "source": [
    "We've imported `datapane`, the popular visualization library `altair`, and `vega_datasets` which contains some sample datasets.\n",
    "\n",
    "Let's load the Iris dataset and get a list of the features."
   ]
  },
  {
   "cell_type": "code",
   "execution_count": null,
   "id": "7d284782-3f15-4f67-aecc-9961285ce671",
   "metadata": {},
   "outputs": [],
   "source": [
    "dataset = data.iris()\n",
    "columns = list(dataset.columns)\n",
    "print(columns)"
   ]
  },
  {
   "cell_type": "markdown",
   "id": "c477b27a-eb3d-4f85-9d8d-7152fde8459c",
   "metadata": {},
   "source": [
    "## Functions\n",
    "\n",
    "With knowledge of our column names, let's build and preview a function to create a scatter plot of two features."
   ]
  },
  {
   "cell_type": "code",
   "execution_count": null,
   "id": "3c48add0-9241-4e22-bd10-5298656591be",
   "metadata": {
    "tags": []
   },
   "outputs": [],
   "source": [
    "def plot(params):\n",
    "    global dataset\n",
    "\n",
    "    fig = (\n",
    "        alt.Chart(dataset)\n",
    "        .mark_point()\n",
    "        .encode(\n",
    "            x=alt.X(params[\"x_axis\"], scale=alt.Scale(zero=False)),\n",
    "            y=alt.X(params[\"y_axis\"], scale=alt.Scale(zero=False)),\n",
    "            color=params[\"color\"],\n",
    "            tooltip=columns,\n",
    "        )\n",
    "    )\n",
    "\n",
    "    return dp.Plot(fig, name=\"plot\")\n",
    "\n",
    "plot({\"x_axis\": \"sepalLength\", \"y_axis\": \"sepalWidth\", \"color\": \"species\"})"
   ]
  },
  {
   "cell_type": "markdown",
   "id": "decda43c-da04-4f24-9aea-d0bb10ab4754",
   "metadata": {},
   "source": [
    "Looking good. Let's highlight the differences between a _regular_ Python function, and a function that is ready for Datapane interactivity.\n",
    "\n",
    "- The first parameter is `params`, a dictionary of the parameters we expect from the user submitted controls. The dictionary keys are determined by the `name` parameters of the controls that we'll create later.\n",
    "- We're returning a `dp.Plot` block, which supports visualizations from many popular libraries, such as `altair`, `matplotlib`, `plotly`,`bokeh`, and `PlotAPI`.\n",
    "\n",
    "Datapane blocks have full notebook support, meaning they can be displayed in notebooks as seen above. "
   ]
  },
  {
   "cell_type": "markdown",
   "id": "a8a2c9c9-83bf-4268-b148-151aaafa0492",
   "metadata": {},
   "source": [
    "## Controls"
   ]
  },
  {
   "cell_type": "markdown",
   "id": "7a81ccd8-c39a-4d6f-84f7-ea200a63b658",
   "metadata": {},
   "source": [
    "Let's add some controls that let the user select which features to plot. Our feature list from earlier, `columns`, will be useful here."
   ]
  },
  {
   "cell_type": "code",
   "execution_count": null,
   "id": "a38c91eb-7adf-4294-a29d-9b0c76507e34",
   "metadata": {},
   "outputs": [],
   "source": [
    "controls = dp.Controls(\n",
    "    dp.Choice(\"x_axis\", options=columns),\n",
    "    dp.Choice(\"y_axis\", options=columns),\n",
    "    dp.Choice(\"color\", options=columns),\n",
    ")"
   ]
  },
  {
   "cell_type": "markdown",
   "id": "ae1da60a-9c45-45e3-ac81-64e6e1a53dda",
   "metadata": {},
   "source": [
    "The first argument of each `dp.choice` is used as the key in the `params` dictionary that we can access in our function."
   ]
  },
  {
   "cell_type": "markdown",
   "id": "254aab8b-62d6-4fc2-963f-ca90375efc55",
   "metadata": {},
   "source": [
    "## All Together\n",
    "\n",
    "We have our function, and our controls, now let's bring them together in a data app."
   ]
  },
  {
   "cell_type": "code",
   "execution_count": null,
   "id": "a4c07204-af9f-4335-8295-f4f819626ba0",
   "metadata": {},
   "outputs": [],
   "source": [
    "v = dp.View(\n",
    "    \"# Iris Dataset Plotter\",\n",
    "    dp.Group(\n",
    "        dp.Function(plot, target=\"plot\", submit_label=\"Plot\", controls=controls),\n",
    "        dp.Empty(name=\"plot\"),\n",
    "        columns=2,\n",
    "    ),\n",
    ")"
   ]
  },
  {
   "cell_type": "markdown",
   "id": "99c3b617-f6da-48ff-b8bf-c4546de91ed5",
   "metadata": {},
   "source": [
    "Let's walk through the code.\n",
    "\n",
    "```python\n",
    "v = dp.View(\n",
    "```\n",
    "\n",
    "This is the root block of our data app, a container for everything else.\n",
    "\n",
    "```python\n",
    "    \"# Iris Dataset Plotter\",\n",
    "```\n",
    "\n",
    "This is a markdown block, which will be rendered as a heading in our app.\n",
    "\n",
    "```python\n",
    "    dp.Group(\n",
    "```\n",
    "\n",
    "This is another container block, we've used it to create a 2 column layout for our controls and plot.\n",
    "\n",
    "```python\n",
    "        dp.Function(plot, target=\"plot\", controls=controls),\n",
    "        dp.Empty(name=\"plot\"),\n",
    "```\n",
    "\n",
    "The first block is a `dp.Function` block, which is a special block that allows us to call a function from the UI. \n",
    "\n",
    "It takes the function we created earlier, `plot`, and the controls we created earlier, `controls`. The `target` parameter tells Datapane where to render the output of the function, in this case, to whatever block has the name `\"plot\"`."
   ]
  },
  {
   "cell_type": "markdown",
   "id": "ccf7d770-ba04-48d9-9bbf-731360f95fd0",
   "metadata": {},
   "source": [
    "We can even view the design of our data app in this notebook, but the functions won't work until we publish it."
   ]
  },
  {
   "cell_type": "code",
   "execution_count": null,
   "id": "59a9cb8e-f03d-4cf8-b1d3-fd8270ec51b5",
   "metadata": {},
   "outputs": [],
   "source": [
    "v"
   ]
  },
  {
   "cell_type": "markdown",
   "id": "ea646651-32c5-425b-8aeb-d34a7cdbaf30",
   "metadata": {},
   "source": [
    "## Launching the App\n",
    "\n",
    "There are many ways to publish a Datapane app, but for now, let's use the `dp.serve` function to see it in action locally.\n",
    "\n",
    "```python\n",
    "dp.serve(v)\n",
    "```"
   ]
  },
  {
   "cell_type": "markdown",
   "id": "6a8b78b6-88af-4849-a941-7a83e5f96f80",
   "metadata": {},
   "source": [
    "That's it! You've created and served your first data app with Datapane.\n",
    "\n",
    "We could have done a lot more with this app, but we wanted to keep it simple. Here are some easy improvements we could make:\n",
    "\n",
    "- Add descriptions and labels to the controls,\n",
    "- Set the default values for the controls,\n",
    "- Present a plot by default, rather than waiting for the user to select features.\n",
    "- Set `publish=True` to get a public URL for your app.\n",
    "- Share the app publically using our third-party [deployment methods](#).\n",
    "- Upload the app to the Datapane Cloud to share with your team."
   ]
  },
  {
   "cell_type": "markdown",
   "id": "7c490721-5f1b-4244-8eb0-53ef1999e84c",
   "metadata": {},
   "source": [
    "## Next Steps\n",
    "\n",
    "- Visit the `examples` folder to see more exciting examples of Datapane apps.\n",
    "- [Join Discord](https://chat.datapane.com)\n",
    "- [Sign up for a free account](https://cloud.datapane.com/accounts/signup)\n",
    "- [Read the documentation](https://docs.datapane.com)\n",
    "- [Ask a question](https://forum.datapane.com/)"
   ]
  }
 ],
 "metadata": {
  "language_info": {
   "name": "python"
  }
 },
 "nbformat": 4,
 "nbformat_minor": 5
}
